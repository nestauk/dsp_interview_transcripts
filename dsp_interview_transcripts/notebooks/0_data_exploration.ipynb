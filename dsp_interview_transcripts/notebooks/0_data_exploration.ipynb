{
 "cells": [
  {
   "cell_type": "markdown",
   "metadata": {},
   "source": [
    "# Exploration of Qual AF transcript data\n",
    "\n",
    "- Considering separately Chatbot and User transcripts?\n",
    "- Is there any structure to the conversations?\n",
    "- Do you want to find matching question-answer pairs?\n",
    "\n",
    "## Potential preprocessing needed\n",
    "- Combining audio transcripts and text into one column\n",
    "\n"
   ]
  },
  {
   "cell_type": "code",
   "execution_count": 11,
   "metadata": {},
   "outputs": [],
   "source": [
    "import pandas as pd\n",
    "from dsp_interview_transcripts import PROJECT_DIR, logger\n",
    "from matplotlib import pyplot as plt\n",
    "\n",
    "DATA_PATH = PROJECT_DIR / \"data/qual_af_transcripts.csv\""
   ]
  },
  {
   "cell_type": "code",
   "execution_count": null,
   "metadata": {},
   "outputs": [],
   "source": [
    "data_df = pd.read_csv(DATA_PATH)\n",
    "logger.info(f\"Loaded in data from {DATA_PATH}\")\n",
    "logger.info(f\"Data shape: {data_df.shape}\")\n",
    "logger.info(f\"Data columns: {data_df.columns}\")"
   ]
  },
  {
   "cell_type": "code",
   "execution_count": null,
   "metadata": {},
   "outputs": [],
   "source": [
    "# check number of unique values in each column\n",
    "for col in data_df.columns:\n",
    "    print(f\"{col}: {data_df[col].nunique()}\")"
   ]
  },
  {
   "cell_type": "code",
   "execution_count": 4,
   "metadata": {},
   "outputs": [],
   "source": [
    "# Imput nan text column with text from transcript column\n",
    "data_df = (\n",
    "    data_df\n",
    "    .assign(text=lambda x: x[\"text\"].fillna(x[\"transcript\"]))\n",
    "    # Length of text \n",
    "    .fillna({\"text\": \"\"})\n",
    "    .assign(text_length=lambda x: x[\"text\"].apply(len))\n",
    ")\n"
   ]
  },
  {
   "cell_type": "code",
   "execution_count": null,
   "metadata": {},
   "outputs": [],
   "source": [
    "data_df.head(1)"
   ]
  },
  {
   "cell_type": "code",
   "execution_count": null,
   "metadata": {},
   "outputs": [],
   "source": [
    "number_of_messages = (\n",
    "    data_df\n",
    "    .groupby(\"conversation\")\n",
    "    .agg(counts = (\"uuid\", \"count\"))\n",
    "    .reset_index()\n",
    ")\n",
    "\n",
    "# change size\n",
    "plt.figure(figsize=(4, 2))\n",
    "plt.hist(number_of_messages[\"counts\"], bins=25)\n",
    "plt.grid(axis='y', linestyle=':')\n",
    "plt.show()"
   ]
  },
  {
   "cell_type": "code",
   "execution_count": null,
   "metadata": {},
   "outputs": [],
   "source": [
    "number_of_messages = (\n",
    "    data_df\n",
    "    .groupby([\"conversation\", \"role\"])\n",
    "    .agg(counts = (\"uuid\", \"count\"))\n",
    "    .reset_index()\n",
    ")\n",
    "\n",
    "\n",
    "# display distribution of number of messages per conversation\n",
    "plt.figure(figsize=(4, 2))\n",
    "plt.hist(number_of_messages.query(\"role == 'BOT'\")[\"counts\"], label = \"BOT\", alpha=0.5, bins=25)\n",
    "plt.hist(number_of_messages.query(\"role == 'USER'\")[\"counts\"], label = \"USER\", alpha=0.5, bins=25)\n",
    "plt.xlabel('Number of messages per conversation')\n",
    "plt.ylabel('Conversations')\n",
    "plt.legend()\n",
    "plt.grid(axis='y', linestyle=':')\n",
    "plt.show()"
   ]
  },
  {
   "cell_type": "code",
   "execution_count": null,
   "metadata": {},
   "outputs": [],
   "source": [
    "# tansform from long to wide format\n",
    "number_of_messages_bot_vs_user = (\n",
    "    number_of_messages\n",
    "    .pivot(index=\"conversation\", columns=\"role\", values=\"counts\")\n",
    "    .reset_index()\n",
    ")\n",
    "\n",
    "# scatter plot\n",
    "plt.figure(figsize=(3, 3))\n",
    "plt.scatter(\n",
    "    number_of_messages_bot_vs_user[\"BOT\"],\n",
    "    number_of_messages_bot_vs_user[\"USER\"],\n",
    "    alpha=0.4,\n",
    ")\n",
    "plt.xlabel(\"BOT messages\")\n",
    "plt.ylabel(\"USER messages\")\n",
    "plt.grid(linestyle=':')\n",
    "plt.show()"
   ]
  },
  {
   "cell_type": "code",
   "execution_count": null,
   "metadata": {},
   "outputs": [],
   "source": [
    "# Hist of length of messages (user roles separately)\n",
    "\n",
    "plt.figure(figsize=(4, 2))\n",
    "plt.hist(data_df.query(\"role == 'BOT'\")[\"text_length\"], bins=25, alpha=0.5, label=\"BOT\")\n",
    "plt.hist(data_df.query(\"role == 'USER'\")[\"text_length\"], bins=25, alpha=0.5, label=\"USER\")\n",
    "plt.xlabel('Length of messages')\n",
    "plt.ylabel('Messages')\n",
    "plt.legend()\n",
    "plt.grid(axis='y', linestyle=':')\n",
    "plt.show()\n"
   ]
  },
  {
   "cell_type": "code",
   "execution_count": null,
   "metadata": {},
   "outputs": [],
   "source": [
    "(\n",
    "    data_df\n",
    "    .query(\"role == 'USER'\")\n",
    "    .query(\"text_length > 0\")\n",
    "    .sort_values(\"text_length\", ascending=True)[[\"role\", \"text\", \"text_length\"]]\n",
    "    .head(20)\n",
    ")"
   ]
  },
  {
   "cell_type": "code",
   "execution_count": null,
   "metadata": {},
   "outputs": [],
   "source": [
    "(\n",
    "    data_df\n",
    "    .query(\"role == 'USER'\")\n",
    "    .query(\"text_length > 0\")\n",
    "    .sort_values(\"text_length\", ascending=False)[[\"role\", \"text\", \"text_length\"]]\n",
    "    .head(20)\n",
    ")"
   ]
  },
  {
   "cell_type": "code",
   "execution_count": null,
   "metadata": {},
   "outputs": [],
   "source": [
    "# To what extent are the bot messages the same from conversation to conversation?\n",
    "\n",
    "# group by bot messages\n",
    "bot_messages = (\n",
    "    data_df\n",
    "    .query(\"role == 'BOT'\")\n",
    "    .groupby(\"text\")\n",
    "    .agg(counts = (\"uuid\", \"count\"))\n",
    "    .reset_index()\n",
    ")\n",
    "bot_messages.sort_values(\"counts\", ascending=False).head(20)"
   ]
  },
  {
   "cell_type": "code",
   "execution_count": null,
   "metadata": {},
   "outputs": [],
   "source": [
    "# Let's do a quick BERTopic analysis on the user messages\n",
    "from bertopic import BERTopic\n"
   ]
  }
 ],
 "metadata": {
  "kernelspec": {
   "display_name": "dsp-interview-transcripts-s68DijWu-py3.11",
   "language": "python",
   "name": "python3"
  },
  "language_info": {
   "codemirror_mode": {
    "name": "ipython",
    "version": 3
   },
   "file_extension": ".py",
   "mimetype": "text/x-python",
   "name": "python",
   "nbconvert_exporter": "python",
   "pygments_lexer": "ipython3",
   "version": "3.11.10"
  }
 },
 "nbformat": 4,
 "nbformat_minor": 2
}
